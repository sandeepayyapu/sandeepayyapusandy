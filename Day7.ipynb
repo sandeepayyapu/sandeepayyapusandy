{
 "cells": [
  {
   "cell_type": "code",
   "execution_count": 11,
   "id": "d4bf9ab7",
   "metadata": {},
   "outputs": [
    {
     "name": "stdout",
     "output_type": "stream",
     "text": [
      "joint\n"
     ]
    }
   ],
   "source": [
    "set1 = {'Python', 'Java', 'Data Science'}\n",
    "set2 = {'ML', 'AI', 'R Language', 'Python'}\n",
    "set3 = {'Data Analytics', 'Robotics', 'Deep Learning'}\n",
    "c=0\n",
    "flag=0\n",
    "for val in range(3):\n",
    "    c=c+1\n",
    "    if c==1:\n",
    "        for val in set1:\n",
    "            if val in set2 or val in set3:\n",
    "                flag =1\n",
    "                break\n",
    "    if c==2:\n",
    "        for val in set2:\n",
    "            if val in set1 or val in set3:\n",
    "                flag=1\n",
    "                break\n",
    "    if c==3:\n",
    "        for val in set3:\n",
    "            if val in set1 or val in set2:\n",
    "                flag=1\n",
    "                break\n",
    "if flag==0:\n",
    "    print(\"Disjoint\")\n",
    "else:\n",
    "    print(\"joint\")"
   ]
  },
  {
   "cell_type": "code",
   "execution_count": 13,
   "id": "89885df0",
   "metadata": {},
   "outputs": [
    {
     "name": "stdout",
     "output_type": "stream",
     "text": [
      "['My', 'name', 'is', 'Kelly']\n"
     ]
    }
   ],
   "source": [
    "list1 = [\"M\", \"na\", \"i\", \"Ke\"]\n",
    "list2 = [\"y\", \"me\", \"s\", \"lly\"]\n",
    "\n",
    "result=[]\n",
    "\n",
    "for i in range(len(list1)):\n",
    "    result.append(list1[i]+list2[i])\n",
    "print(result)\n"
   ]
  },
  {
   "cell_type": "code",
   "execution_count": 30,
   "id": "b39dba03",
   "metadata": {},
   "outputs": [
    {
     "name": "stdout",
     "output_type": "stream",
     "text": [
      "['My', 'name', 'is', 'Kelly']\n"
     ]
    }
   ],
   "source": [
    "list1 = [\"M\", \"na\", \"i\", \"Ke\"]\n",
    "list2 = [\"y\", \"me\", \"s\", \"lly\"]\n",
    "\n",
    "i=0\n",
    "l=[]\n",
    "\n",
    "while i<len(list1):\n",
    "    l.append(list1[i]+list2[i])\n",
    "    i+=1\n",
    "print(l)"
   ]
  },
  {
   "cell_type": "code",
   "execution_count": 31,
   "id": "7d0cc5ea",
   "metadata": {},
   "outputs": [],
   "source": [
    "# Hacker rank --> Caesar Cipher"
   ]
  },
  {
   "cell_type": "code",
   "execution_count": 32,
   "id": "3cb7f845",
   "metadata": {},
   "outputs": [],
   "source": [
    "# ! Functions\n",
    "# -- Function is a block of code which is used to perform a specific personality \n",
    "# Function can be created using def keyword\n",
    "# Function has 3 parts in any luanguage\n",
    " #> Function declaration \n",
    " #> Function Defanition \n",
    " #> Function Call\n",
    "# But in python we have just 2 parts\n",
    "#-> Function Defanition \n",
    "#--. Function Call"
   ]
  },
  {
   "cell_type": "code",
   "execution_count": 36,
   "id": "372ba4ae",
   "metadata": {},
   "outputs": [
    {
     "name": "stdout",
     "output_type": "stream",
     "text": [
      "Welcome user !\n"
     ]
    }
   ],
   "source": [
    "#Eg:\n",
    "def greet(): #--> Function Defination\n",
    "    print(\"Welcome user !\")\n",
    "greet() #--> Function Calling"
   ]
  },
  {
   "cell_type": "code",
   "execution_count": 41,
   "id": "4a910b56",
   "metadata": {},
   "outputs": [
    {
     "name": "stdout",
     "output_type": "stream",
     "text": [
      "lio\n",
      "Welcome user ! lio\n",
      "siva \n",
      "Welcome user ! siva \n",
      "jio\n",
      "Welcome user ! jio\n"
     ]
    }
   ],
   "source": [
    "def greet(name): #--> name is a parameter (like variable)\n",
    "    print(\"Welcome user !\",name)\n",
    "greet(input()) \n",
    "greet(input())\n",
    "greet(input())#--> Function Calling"
   ]
  },
  {
   "cell_type": "code",
   "execution_count": 47,
   "id": "118f8f59",
   "metadata": {},
   "outputs": [
    {
     "name": "stdout",
     "output_type": "stream",
     "text": [
      "lio\n",
      "Welcome user ! lio\n",
      "jio\n",
      "Welcome user ! jio\n",
      "kio\n",
      "Welcome user ! kio\n"
     ]
    }
   ],
   "source": [
    "def greet(name): #--> name is called as parameters\n",
    "    print(\"Welcome user !\",name)\n",
    "for val in range(3):\n",
    "    username=input()\n",
    "    greet(username) #--> here username is called as argument"
   ]
  },
  {
   "cell_type": "code",
   "execution_count": null,
   "id": "abd8831d",
   "metadata": {},
   "outputs": [],
   "source": []
  }
 ],
 "metadata": {
  "kernelspec": {
   "display_name": "Python 3 (ipykernel)",
   "language": "python",
   "name": "python3"
  },
  "language_info": {
   "codemirror_mode": {
    "name": "ipython",
    "version": 3
   },
   "file_extension": ".py",
   "mimetype": "text/x-python",
   "name": "python",
   "nbconvert_exporter": "python",
   "pygments_lexer": "ipython3",
   "version": "3.9.7"
  }
 },
 "nbformat": 4,
 "nbformat_minor": 5
}
